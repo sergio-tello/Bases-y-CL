{
 "cells": [
  {
   "cell_type": "markdown",
   "metadata": {},
   "source": [
    "# CNYT 2019-2\n",
    "\n",
    "# Bases y combinaciones lineales"
   ]
  },
  {
   "cell_type": "markdown",
   "metadata": {},
   "source": [
    "En este documento Jupyter Notebook queremos motivar el estudio de semejanzas entre algunos conceptos del Álgebra lineal y conceptos de la teoría del color. Estas semejanzas nos servirán para comprender de forma más intuitiva, habiendo establecido algunas analogías útiles, los conceptos que usaremos más adelante en el estudio de la Computación cuántica.\n",
    "\n",
    "Algunos puntos importantes:\n",
    "\n",
    "* Tradicionalmente, el estudio del Álgebra lineal se ha relacionado con la geometría (el vector visto como un objeto geométrico). Nosotros, sin olvidar ese enfoque geométrico, también vamos a necesitar darle al concepto de vector un tratamiento un poco más abstracto a lo largo de nuestro curso. \n",
    "\n",
    "* Espacio vectorial (o una parte representativa de su totalidad) = **SISTEMA** \n",
    "\n",
    "* Vector = **ESTADO**\n",
    "\n",
    "* **Base** = Conjunto (ordenado) de **ESTADOS BÁSICOS O FUNDAMENTALES** independientes\n",
    "\n",
    "* El número de elementos de la base se denomina **DIMENSIÓN** del **SISTEMA**\n",
    "\n",
    "* Todo **ESTADO** se puede escribir como una combinación lineal (**SUPERPOSICIÓN**) de **ESTADOS BÁSICOS**\n",
    "\n",
    "* Los coeficientes de dicha combinación lineal se denominan coordenadas (nosotros los llamaremos *amplitudes*)\n",
    "\n",
    "* Concepto de **COLAPSO** de un estado cualquiera a un **ESTADO BÁSICO**\n",
    "\n",
    "* Importancia de la base: Dependiendo de la tarea que necesitemos hacer, una base puede llegar a ser más práctica que otra.\n",
    "\n"
   ]
  },
  {
   "cell_type": "code",
   "execution_count": null,
   "metadata": {},
   "outputs": [],
   "source": [
    "# Importación de librerías\n",
    "import ipywidgets as ipw\n",
    "from IPython.core.display import display\n",
    "from ipywidgets import interact, interact_manual\n",
    "import matplotlib.pyplot as plt\n",
    "import numpy as np\n",
    "from PIL import Image, ImageOps\n",
    "\n",
    "%matplotlib inline"
   ]
  },
  {
   "cell_type": "markdown",
   "metadata": {},
   "source": [
    "## Un Sistema cromático"
   ]
  },
  {
   "cell_type": "markdown",
   "metadata": {},
   "source": [
    "Un espacio de color o un **SISTEMA CROMÁTICO** es un conjunto de colores (**ESTADOS DEL SISTEMA**) que se pueden obtener como mezcla, combinación o superposición de un conjunto de **ESTADOS BÁSICOS** o colores básicos. Por ejemplo, hemos escuchado desde la infancia que *todos los colores se pueden obtener como mezcla de los colores primarios: amarillo, azul y rojo*. Esto quiere decir que el **SISTEMA** de todos los colores $\\mathbf{C}$, tiene como **base** al conjunto $B = \\{\\text{Amarillo}, \\text{Azul}, \\text{Rojo}\\}$ y, por lo tanto, su dimensión es $3$."
   ]
  },
  {
   "cell_type": "markdown",
   "metadata": {},
   "source": [
    "### Ejercicio 1\n",
    "\n",
    "Vamos a trabajar en las bases de color RGB y TPO (ver abajo la descripción de esta sigla). \n",
    "\n",
    "* Para el color *vinotinto* institucional de la Escuela de Ingeniería, encuentre sus coordenadas en la base RGB y también en la base TPO. Puede usar las herramientas proporcionadas abajo o combinarlas con herramientas online. Repitamos el ejercicio con el color anaranjado del logo de Jupyter.\n",
    "\n",
    "* Verifique que los colores TPO se pueden obtener como combinación de los colores RGB y viceversa."
   ]
  },
  {
   "cell_type": "markdown",
   "metadata": {},
   "source": [
    "## Color en la base RGB"
   ]
  },
  {
   "cell_type": "code",
   "execution_count": null,
   "metadata": {},
   "outputs": [],
   "source": [
    "# Coordenadas del cuadrado que se va a plotear para visualizar el color\n",
    "x = [0, 0, 0.5, 0.5]\n",
    "y = [0, 0.5, 0.5, 0] \n",
    "\n",
    "    \n",
    "@interact_manual(R = (0, 255), G = (0, 255), B = (0,255))\n",
    "def ActualizarColor(R,G,B):\n",
    "    \"\"\"\n",
    "    Función que actualiza el color mostrado, dependiendo\n",
    "    de cómo se modifiquen los valores de los deslizadores\n",
    "    \"\"\"\n",
    "    c_red = R/255\n",
    "    c_green = G/255\n",
    "    c_blue = B/255\n",
    "    plt.axis('equal')\n",
    "    plt.fill(x, y, color=(c_red, c_green, c_blue))\n",
    "    "
   ]
  },
  {
   "cell_type": "markdown",
   "metadata": {},
   "source": [
    "## Color en la base Teal-Purple-Olive"
   ]
  },
  {
   "cell_type": "code",
   "execution_count": null,
   "metadata": {},
   "outputs": [],
   "source": [
    "# Coordenadas del cuadrado que se va a plotear para visualizar el color\n",
    "x = [0, 0, 0.5, 0.5]\n",
    "y = [0, 0.5, 0.5, 0] \n",
    "\n",
    "    \n",
    "@interact_manual(T = (0, 255), P = (0, 255), O = (0,255))\n",
    "def ActualizarColor(T,P,O):\n",
    "    \"\"\"\n",
    "    Función que actualiza el color mostrado, dependiendo\n",
    "    de cómo se modifiquen los valores de los deslizadores\n",
    "    \"\"\"\n",
    "    c_red1 = (P+O)/510\n",
    "    c_green1 = (T+O)/510\n",
    "    c_blue1 = (T+P)/510\n",
    "    plt.axis('equal')\n",
    "    plt.fill(x, y, color=(c_red1, c_green1, c_blue1))\n",
    "    "
   ]
  },
  {
   "cell_type": "markdown",
   "metadata": {},
   "source": [
    "### Ejercicio 2\n",
    "\n",
    "¿Qué sería un sistema cromático con base RG?"
   ]
  },
  {
   "cell_type": "markdown",
   "metadata": {},
   "source": [
    "### Color dominante\n",
    "\n",
    "Notemos que, sin importar la base, los coeficientes de la combinación lineal nos permiten determinar cuál o cuáles de los colores básicos son más dominantes en la definición del color en cuestión. Por ejemplo, el color *mantis* $VM$ se escribe en la base RGB, así: $VM = 100 \\text{ Red} + 200 \\text{ Green} + 90 \\text{ Blue} $\n",
    "\n",
    "Y, por lo tanto, podemos decir que su color básico dominante es el verde ($\\text{Green}$), ya que es el estado básico que tiene más peso (200) dentro de la conformación de este color. \n",
    "\n"
   ]
  },
  {
   "cell_type": "code",
   "execution_count": null,
   "metadata": {},
   "outputs": [],
   "source": []
  },
  {
   "cell_type": "markdown",
   "metadata": {},
   "source": [
    "### Ejercicio 3\n",
    "\n",
    "Usando esta idea del color dominante, ¿cómo podríamos definir una función que colapse cualquier color (cualquier estado) a un estado básico? Tengamos en cuenta que puede haber *empates*. Entonces, ¿qué haríamos en esta situación? Esto será muy importante para nuestro curso, ya que tendrá que ver con el concepto de **MEDICIÓN** de un sistema cuántico. "
   ]
  },
  {
   "cell_type": "markdown",
   "metadata": {},
   "source": [
    "### Ejercicio 4\n",
    "\n",
    "Vamos a poner a prueba la definición de colapso. A continuación mostramos una imagen importada y guardada en un arreglo. El ejercicio de programación consiste en colapsar cada color de esa imagen a un color de la base RGB (usando lo que se pensó en el ejercicio anterior), de modo que al final obtengamos una imagen que sólo tiene 3 colores. (Inserte las celdas que sean necesarias para realizar el ejercicio)"
   ]
  },
  {
   "cell_type": "markdown",
   "metadata": {},
   "source": [
    "### Importación de imagen "
   ]
  },
  {
   "cell_type": "code",
   "execution_count": null,
   "metadata": {},
   "outputs": [],
   "source": [
    "! curl -O https://i.pinimg.com/originals/e6/f9/4d/e6f94dce411b11742d9e1876b1306048.jpg"
   ]
  },
  {
   "cell_type": "code",
   "execution_count": null,
   "metadata": {},
   "outputs": [],
   "source": [
    "img = plt.imread('e6f94dce411b11742d9e1876b1306048.jpg')"
   ]
  },
  {
   "cell_type": "code",
   "execution_count": null,
   "metadata": {},
   "outputs": [],
   "source": [
    "plt.imshow(img)"
   ]
  },
  {
   "cell_type": "markdown",
   "metadata": {},
   "source": [
    "### Dimensiones del arreglo en el que se guarda la imagen"
   ]
  },
  {
   "cell_type": "code",
   "execution_count": null,
   "metadata": {},
   "outputs": [],
   "source": [
    "img.shape"
   ]
  },
  {
   "cell_type": "markdown",
   "metadata": {},
   "source": [
    "### Color RGB [R, G, B] correspondiente al pixel en la coordenada (300, 250) del arreglo"
   ]
  },
  {
   "cell_type": "code",
   "execution_count": null,
   "metadata": {},
   "outputs": [],
   "source": [
    "img[300][250][:3]"
   ]
  },
  {
   "cell_type": "markdown",
   "metadata": {},
   "source": [
    "## Importancia de la escogencia de la base"
   ]
  },
  {
   "cell_type": "markdown",
   "metadata": {},
   "source": [
    "Vamos a finalizar mencionando un caso muy relevante en el cual la escogencia de la base hace la diferencia entre lo trivial o una aplicación extremadamente valiosa como lo es la compresión de imágenes (JPEG)."
   ]
  },
  {
   "cell_type": "markdown",
   "metadata": {},
   "source": [
    "<img src=\"https://upload.wikimedia.org/wikipedia/commons/2/24/DCT-8x8.png\"\n",
    "     style=\"float: center\" />"
   ]
  },
  {
   "cell_type": "markdown",
   "metadata": {},
   "source": [
    "Cada uno de los cuadrados que observamos en la imagen, es en realidad la representación gráfica de una matriz de tamaño $8 \\times 8$. En total, tenemos 64 cuadrados o matrices. El espacio vectorial de todas las matrices de $8 \\times 8$ tiene dimensión 64 y las matrices que observamos en la imagen son en realidad una base para este espacio.\n",
    "\n",
    "Si comparamos con la base estándar podemos ver que mientras que cada uno de los elementos de la base de la figura tiene asociadas *texturas* y *direcciones* que podemos encontrar como patrones en la formación de imágenes, en la base estándar (gráficamente) tendríamos una colección de cuadrados con un punto negro en una única casilla. Mientras que los dos conjuntos son base, una de ellas resulta mucho más relevante que la otra para su uso en compresión de imágenes."
   ]
  },
  {
   "cell_type": "code",
   "execution_count": null,
   "metadata": {},
   "outputs": [],
   "source": []
  }
 ],
 "metadata": {
  "kernelspec": {
   "display_name": "Python 3",
   "language": "python",
   "name": "python3"
  },
  "language_info": {
   "codemirror_mode": {
    "name": "ipython",
    "version": 3
   },
   "file_extension": ".py",
   "mimetype": "text/x-python",
   "name": "python",
   "nbconvert_exporter": "python",
   "pygments_lexer": "ipython3",
   "version": "3.7.3"
  }
 },
 "nbformat": 4,
 "nbformat_minor": 2
}
